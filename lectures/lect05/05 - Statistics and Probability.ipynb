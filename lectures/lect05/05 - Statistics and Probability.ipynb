{
 "cells": [
  {
   "cell_type": "code",
   "execution_count": 1,
   "metadata": {
    "collapsed": false
   },
   "outputs": [],
   "source": [
    "%matplotlib inline\n",
    "import numpy as np\n",
    "np.set_printoptions(precision=4, suppress=True)\n",
    "\n",
    "import pandas as pd\n",
    "from scipy import stats\n",
    "import matplotlib.pyplot as plt\n",
    "plt.style.use('ggplot')"
   ]
  },
  {
   "cell_type": "markdown",
   "metadata": {},
   "source": [
    "# Lecture 5: Statistics and Probability\n",
    "\n",
    "Today we will review of some statistics and probability needed for doing data analysis.\n"
   ]
  },
  {
   "cell_type": "markdown",
   "metadata": {},
   "source": [
    "First, let's do a quick survey on number of FB friends of people in this class."
   ]
  },
  {
   "cell_type": "code",
   "execution_count": 2,
   "metadata": {
    "collapsed": true
   },
   "outputs": [],
   "source": [
    "# data = [\n",
    "#         (1, 100),\n",
    "#         (2, 200),\n",
    "#         (3, 300),\n",
    "#         (4, 400),\n",
    "#         (5, 500),\n",
    "#         (6, 600),\n",
    "#         (7, 400),\n",
    "#         (8, 200),\n",
    "# ]\n",
    "\n",
    "data = [\n",
    "        (1995, 224),\n",
    "        (1995, 400),\n",
    "        (1996, 529),\n",
    "        (1994, 702),\n",
    "        (1995, 337),\n",
    "        (1996, 870),\n",
    "        (1996, 183),\n",
    "        (1996, 178),\n",
    "        (1996, 650),\n",
    "        (1996, 777),\n",
    "        (1992, 797),\n",
    "        (1995, 381),\n",
    "        (1998, 1188),\n",
    "        (1996, 298),\n",
    "        (1994, 683),\n",
    "        (1995, 222),\n",
    "        (1991, 300)\n",
    "]\n",
    "\n",
    "stuId, num_friends = zip(*data)"
   ]
  },
  {
   "cell_type": "markdown",
   "metadata": {},
   "source": [
    "To look at how the data is distributed, we can look at the histogram plot. The histogram plot is very useful for describing a single dimenstion of the data."
   ]
  },
  {
   "cell_type": "code",
   "execution_count": 3,
   "metadata": {
    "collapsed": false
   },
   "outputs": [
    {
     "data": {
      "image/png": "[encoded data removed]",
      "text/plain": [
       "<matplotlib.figure.Figure at 0x111013910>"
      ]
     },
     "metadata": {},
     "output_type": "display_data"
    }
   ],
   "source": [
    "(n, bins, patches) = plt.hist(num_friends, bins=6)"
   ]
  },
  {
   "cell_type": "markdown",
   "metadata": {},
   "source": [
    "Sometimes, you just want only a quick summary about the data. So you start generating some statistics:"
   ]
  },
  {
   "cell_type": "code",
   "execution_count": 4,
   "metadata": {
    "collapsed": false
   },
   "outputs": [
    {
     "name": "stdout",
     "output_type": "stream",
     "text": [
      "num of data point:  17\n",
      "max =  1188\n",
      "min =  178\n",
      "2nd smallest =  183\n"
     ]
    }
   ],
   "source": [
    "# Number of data points\n",
    "print \"num of data point: \",len(num_friends)\n",
    "\n",
    "# Maximum value\n",
    "print \"max = \",max(num_friends)\n",
    "\n",
    "# Minimum value\n",
    "print \"min = \",min(num_friends)\n",
    "\n",
    "# 2nd smallest\n",
    "sorted_num_friends = sorted(num_friends)\n",
    "print \"2nd smallest = \",sorted_num_friends[1]"
   ]
  },
  {
   "cell_type": "markdown",
   "metadata": {},
   "source": [
    "Many times, we'd like to know where our data is centered."
   ]
  },
  {
   "cell_type": "code",
   "execution_count": 5,
   "metadata": {
    "collapsed": false
   },
   "outputs": [
    {
     "name": "stdout",
     "output_type": "stream",
     "text": [
      "mean: 512.882352941\n",
      "median: 400.0\n"
     ]
    }
   ],
   "source": [
    "# Mean\n",
    "print \"mean:\",np.mean(num_friends)\n",
    "\n",
    "# Median\n",
    "print \"median:\",np.median(num_friends)"
   ]
  },
  {
   "cell_type": "markdown",
   "metadata": {},
   "source": [
    "Although the mean is easy to calculate i.e. $\\frac{1}{n} \\sum_1^n x_i$, it is sensitive to **outliers**."
   ]
  },
  {
   "cell_type": "code",
   "execution_count": 6,
   "metadata": {
    "collapsed": false
   },
   "outputs": [
    {
     "name": "stdout",
     "output_type": "stream",
     "text": [
      "mean: 56039.9444444\n",
      "median: 464.5\n"
     ]
    }
   ],
   "source": [
    "num_friends_with_outlier = num_friends + (1000000,)\n",
    "\n",
    "# Mean\n",
    "print \"mean:\",np.mean(num_friends_with_outlier)\n",
    "\n",
    "# Median\n",
    "print \"median:\",np.median(num_friends_with_outlier)"
   ]
  },
  {
   "cell_type": "markdown",
   "metadata": {},
   "source": [
    "### Dispersion\n",
    "\n",
    "The term *Dispersion* refers to measures of how spread out our data is. A very simple statistics is `range` which is simply the difference between the minimum and the maximum values. Consider the following."
   ]
  },
  {
   "cell_type": "code",
   "execution_count": 7,
   "metadata": {
    "collapsed": false
   },
   "outputs": [
    {
     "data": {
      "image/png": "[encoded data removed]",
      "text/plain": [
       "<matplotlib.figure.Figure at 0x1111e9b50>"
      ]
     },
     "metadata": {},
     "output_type": "display_data"
    }
   ],
   "source": [
    "data1 = np.random.randn(1,100)*300\n",
    "data2 = np.random.randn(1,100)*1000\n",
    "\n",
    "plt.figure(figsize=(10,5))\n",
    "(n,bins,_) = plt.hist([data1,data2],bins=30)"
   ]
  },
  {
   "cell_type": "code",
   "execution_count": 8,
   "metadata": {
    "collapsed": false
   },
   "outputs": [
    {
     "name": "stdout",
     "output_type": "stream",
     "text": [
      "range of data1 = 1715.69688835\n",
      "range of data2 = 6972.55980886\n",
      "variance of data1 = 98631.914874\n",
      "variance of data2 = 1487480.14163\n"
     ]
    }
   ],
   "source": [
    "# Measure dispersion of the two datasets using range, variance, standard deviation, interquartile range\n",
    "range_data1 = np.max(data1) - np.min(data1)\n",
    "print \"range of data1 =\", range_data1\n",
    "\n",
    "range_data2 = np.max(data2) - np.min(data2)\n",
    "print \"range of data2 =\", range_data2\n",
    "\n",
    "var_data1 = np.var(data1)\n",
    "print \"variance of data1 =\", var_data1\n",
    "\n",
    "var_data2 = np.var(data2)\n",
    "print \"variance of data2 =\", var_data2\n",
    "\n",
    "# IQR: interquatile range"
   ]
  },
  {
   "cell_type": "markdown",
   "metadata": {},
   "source": [
    "## Correlation\n",
    "\n",
    "Suppose you want to investigate relationship between two variables. Lets verify if student ids are related to number of friends"
   ]
  },
  {
   "cell_type": "code",
   "execution_count": 9,
   "metadata": {
    "collapsed": false
   },
   "outputs": [
    {
     "data": {
      "text/plain": [
       "array([[     2.6838,     97.5074],\n",
       "       [    97.5074,  84947.6103]])"
      ]
     },
     "execution_count": 9,
     "metadata": {},
     "output_type": "execute_result"
    }
   ],
   "source": [
    "np.cov(stuId, num_friends)"
   ]
  },
  {
   "cell_type": "markdown",
   "metadata": {},
   "source": [
    "Covariance is difficult to interpret. It's more common to look at the Pearson correleation coefficient.\n",
    "\n",
    ">The Pearson correlation coefficient measures the linear relationship between two datasets. Strictly speaking, Pearson’s correlation requires that each dataset be normally distributed. Like other correlation coefficients, this one varies between -1 and +1 with 0 implying no correlation. Correlations of -1 or +1 imply an exact linear relationship. Positive correlations imply that as x increases, so does y. Negative correlations imply that as x increases, y decreases."
   ]
  },
  {
   "cell_type": "code",
   "execution_count": 10,
   "metadata": {
    "collapsed": false
   },
   "outputs": [
    {
     "name": "stdout",
     "output_type": "stream",
     "text": [
      "0.204213667826\n"
     ]
    }
   ],
   "source": [
    "(r,_) = stats.pearsonr(stuId, num_friends)\n",
    "print r"
   ]
  },
  {
   "cell_type": "code",
   "execution_count": 11,
   "metadata": {
    "collapsed": false
   },
   "outputs": [
    {
     "data": {
      "text/plain": [
       "<matplotlib.text.Text at 0x1116a6650>"
      ]
     },
     "execution_count": 11,
     "metadata": {},
     "output_type": "execute_result"
    },
    {
     "data": {
      "image/png": "[encoded data removed]",
      "text/plain": [
       "<matplotlib.figure.Figure at 0x111013b90>"
      ]
     },
     "metadata": {},
     "output_type": "display_data"
    }
   ],
   "source": [
    "plt.figure(figsize=(7,7))\n",
    "plt.plot(stuId, num_friends, 'or')\n",
    "plt.xlabel('Student ID')\n",
    "plt.ylabel('Number of Friends')"
   ]
  },
  {
   "cell_type": "markdown",
   "metadata": {},
   "source": [
    "## Simpson's Paradox\n",
    "\n",
    "One not uncommon surprise when analyzing data is Simpson’s Paradox, in which correlations can be misleading when **confounding** variables are ignored."
   ]
  },
  {
   "cell_type": "code",
   "execution_count": 12,
   "metadata": {
    "collapsed": true
   },
   "outputs": [],
   "source": [
    "west_phd = np.random.randn(35,1)+3.1\n",
    "east_phd = np.random.randn(70,1)+3.3\n",
    "west_nonphd = np.random.randn(66,1)+10.9\n",
    "east_nonphd = np.random.randn(33,1)+13.4\n"
   ]
  },
  {
   "cell_type": "code",
   "execution_count": 13,
   "metadata": {
    "collapsed": false
   },
   "outputs": [],
   "source": [
    "west = np.concatenate([west_phd, west_nonphd],axis=0)\n",
    "east = np.concatenate([east_phd, east_nonphd],axis=0)"
   ]
  },
  {
   "cell_type": "code",
   "execution_count": 14,
   "metadata": {
    "collapsed": false
   },
   "outputs": [
    {
     "name": "stdout",
     "output_type": "stream",
     "text": [
      "west 8.35588106695\n",
      "east 6.62705682009\n"
     ]
    }
   ],
   "source": [
    "print \"west\",west.mean()\n",
    "print \"east\",east.mean()"
   ]
  },
  {
   "cell_type": "code",
   "execution_count": 15,
   "metadata": {
    "collapsed": false
   },
   "outputs": [
    {
     "name": "stdout",
     "output_type": "stream",
     "text": [
      "west phd 3.21270733533\n",
      "east phd 3.50990330699\n",
      "west nonphd 11.0833216822\n",
      "east nonphd 13.2392006358\n"
     ]
    }
   ],
   "source": [
    "print \"west phd\",west_phd.mean()\n",
    "print \"east phd\",east_phd.mean()\n",
    "print \"west nonphd\",west_nonphd.mean()\n",
    "print \"east nonphd\",east_nonphd.mean()"
   ]
  },
  {
   "cell_type": "markdown",
   "metadata": {},
   "source": [
    "## Correlation and Causation\n",
    "\n",
    "You have probably heard at some point that “correlation is not causation,” most likely by someone looking at data that posed a challenge to parts of his worldview that he was reluctant to question. Nonetheless, this is an important point—if x and y are strongly correlated, that might mean that x causes y, that y causes x, that each causes the other, that some third factor causes both, or it might mean nothing."
   ]
  },
  {
   "cell_type": "markdown",
   "metadata": {},
   "source": [
    "# Probability\n",
    "\n",
    "Let's talk about this on the board... Feel free to take notes here.\n",
    "\n",
    "Topics:\n",
    "- Dependence and Independence\n",
    "- Conditional Probability\n",
    "- Bayes's Theorem\n",
    "- Random Variables\n",
    "- Continuous Distributions (Uniform and Normal)\n",
    "- The Central Limit Theorem (CLT)"
   ]
  },
  {
   "cell_type": "markdown",
   "metadata": {},
   "source": [
    "## Notes\n",
    "\n",
    "### Dependence vs Independent\n",
    "\n",
    "**Probability** - a way of quantifying uncertainty with **events** chosen from some **universe** of events\n",
    "\n",
    "$P(E)$ means \"the probability of the event $E$\"\n",
    "\n",
    "Two events A dn B are **dependent** if knowing something about A gives information about B. Otherwise,\n",
    "they are **independent**\n",
    "\n",
    "$$ P(A, B) = P(A)P(B) $$\n",
    "<center>means A and B are **independent**</center>\n",
    "\n",
    "#### Conditional Probability\n",
    "$ P(A, B) = P(A)P(B) $\n",
    "\n",
    "$ P(A, B) = P(A \\mid B)P(B) $"
   ]
  },
  {
   "cell_type": "markdown",
   "metadata": {},
   "source": [
    "## Demo: The Central Limit Theorem\n",
    "One reason the normal distribution is so useful is the central limit theorem, which says (in essence) that a random variable defined as the average of a large number of independent and identically distributed random variables is itself approximately nor‐ mally distributed.\n"
   ]
  },
  {
   "cell_type": "code",
   "execution_count": 16,
   "metadata": {
    "collapsed": false
   },
   "outputs": [
    {
     "data": {
      "image/png": "[encoded data removed]",
      "text/plain": [
       "<matplotlib.figure.Figure at 0x111832210>"
      ]
     },
     "metadata": {},
     "output_type": "display_data"
    }
   ],
   "source": [
    "ys = []\n",
    "for i in range(20000):\n",
    "    x = np.random.rand(100,1)\n",
    "    ys.append(x.mean())\n",
    "_ = plt.hist(ys,bins=30)"
   ]
  },
  {
   "cell_type": "code",
   "execution_count": null,
   "metadata": {
    "collapsed": true
   },
   "outputs": [],
   "source": []
  }
 ],
 "metadata": {
  "anaconda-cloud": {},
  "kernelspec": {
   "display_name": "Python 2",
   "language": "python",
   "name": "python2"
  },
  "language_info": {
   "codemirror_mode": {
    "name": "ipython",
    "version": 2
   },
   "file_extension": ".py",
   "mimetype": "text/x-python",
   "name": "python",
   "nbconvert_exporter": "python",
   "pygments_lexer": "ipython2",
   "version": "2.7.10"
  }
 },
 "nbformat": 4,
 "nbformat_minor": 1
}
