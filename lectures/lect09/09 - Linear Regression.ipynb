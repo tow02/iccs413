{
 "cells": [
  {
   "cell_type": "code",
   "execution_count": 1,
   "metadata": {
    "collapsed": true
   },
   "outputs": [],
   "source": [
    "%matplotlib inline\n",
    "import numpy as np\n",
    "import pandas as pd\n",
    "import matplotlib.pyplot as plt\n",
    "plt.style.use('ggplot')"
   ]
  },
  {
   "cell_type": "markdown",
   "metadata": {},
   "source": [
    "# Lecture 9: Simple Linear Regression\n",
    "(Source: DAT4 Course Repository https://github.com/justmarkham/DAT4)"
   ]
  },
  {
   "cell_type": "markdown",
   "metadata": {},
   "source": [
    "Simple linear regression is an approach for predicting a **quantitative response** using a **single feature** (or \"predictor\" or \"input variable\"). It takes the following form:\n",
    "\n",
    "$y = \\beta_0 + \\beta_1x$ \n",
    "\n",
    "What does each term represent?\n",
    "- $y$ is the response\n",
    "- $x$ is the feature\n",
    "- $\\beta_0$ is the intercept\n",
    "- $\\beta_1$ is the coefficient for x\n",
    "\n",
    "Together, $\\beta_0$ and $\\beta_1$ are called the **model coefficients**. To create your model, you must \"learn\" the values of these coefficients. And once we've learned these coefficients, we can use the model for prediction."
   ]
  },
  {
   "cell_type": "markdown",
   "metadata": {},
   "source": [
    "## Estimating (\"Learning\") Model Coefficients\n",
    "\n",
    "Generally speaking, coefficients are estimated using the **least squares criterion**, which means we are find the line (mathematically) which minimizes the **sum of squared residuals** (or \"sum of squared errors\"):"
   ]
  },
  {
   "cell_type": "markdown",
   "metadata": {},
   "source": [
    "<img src=\"09_estimating_coefficients.png\">"
   ]
  },
  {
   "cell_type": "markdown",
   "metadata": {},
   "source": [
    "What elements are present in the diagram?\n",
    "- The black dots are the **observed values** of x and y.\n",
    "- The blue line is our **least squares line**.\n",
    "- The red lines are the **residuals**, which are the distances between the observed values and the least squares line.\n",
    "\n",
    "How do the model coefficients relate to the least squares line?\n",
    "- $\\beta_0$ is the **intercept** (the value of $y$ when $x$=0)\n",
    "- $\\beta_1$ is the **slope** (the change in $y$ divided by change in $x$)\n",
    "\n",
    "Here is a graphical depiction of those calculations:"
   ]
  },
  {
   "cell_type": "markdown",
   "metadata": {
    "collapsed": true
   },
   "source": [
    "<img src=\"09_slope_intercept.png\">"
   ]
  },
  {
   "cell_type": "code",
   "execution_count": 2,
   "metadata": {
    "collapsed": false
   },
   "outputs": [],
   "source": [
    "np.random.seed(101)\n",
    "hidden_0 = 26.25\n",
    "hidden_1 = 13.13\n",
    "n = 50\n",
    "eps = 10 # this is noise\n",
    "x = np.random.uniform(1,20,(n,))\n",
    "y = x * hidden_1 + hidden_0 + np.random.normal(0,eps,(n,))"
   ]
  },
  {
   "cell_type": "code",
   "execution_count": 3,
   "metadata": {
    "collapsed": false
   },
   "outputs": [
    {
     "data": {
      "text/plain": [
       "[<matplotlib.lines.Line2D at 0x1114ff890>]"
      ]
     },
     "execution_count": 3,
     "metadata": {},
     "output_type": "execute_result"
    },
    {
     "data": {
      "image/png": "[encoded data removed]",
      "text/plain": [
       "<matplotlib.figure.Figure at 0x10f0cc350>"
      ]
     },
     "metadata": {},
     "output_type": "display_data"
    }
   ],
   "source": [
    "plt.plot(x,y,'ok')"
   ]
  },
  {
   "cell_type": "code",
   "execution_count": 4,
   "metadata": {
    "collapsed": true,
    "slideshow": {
     "slide_type": "-"
    }
   },
   "outputs": [],
   "source": [
    "def predict(beta0, beta1, x_i):\n",
    "    return x_i*beta1 + beta0\n",
    "\n",
    "def error(beta0, beta1, x_i, y_i):\n",
    "    return y_i - predict(beta0, beta1, x_i)\n",
    "\n",
    "def sq_error(beta0, beta1, x_i, y_i):\n",
    "    return (y_i - predict(beta0, beta1, x_i))**2\n",
    "\n",
    "def sumsq_error(beta0, beta1, x, y):\n",
    "    return sum(sq_error(beta0, beta1, x_i, y_i) for x_i, y_i in zip(x,y))"
   ]
  },
  {
   "cell_type": "markdown",
   "metadata": {},
   "source": [
    "## How to choose $\\beta_0$ and $\\beta_1$\n",
    "\n",
    "We want to choose $\\beta_0$ and $\\beta_1$ so that our prediction is \"close\" to the actual. Generally, there are many ways to define \"close\". A common approach is to measure the \"sum of squared errors\". We call this solution **the least squares solution**.\n",
    "\n",
    "Why least squares? Why not least absolutes? The least squares solution is closely related to the concept of **maximum likelihood estimation**."
   ]
  },
  {
   "cell_type": "code",
   "execution_count": 5,
   "metadata": {
    "collapsed": false
   },
   "outputs": [
    {
     "name": "stdout",
     "output_type": "stream",
     "text": [
      "185881.229292\n",
      "1282778.02598\n",
      "5405.19821892\n",
      "5626.5313629\n",
      "12144.6097836\n"
     ]
    }
   ],
   "source": [
    "# Trial & Error\n",
    "print sumsq_error(1.1, 10.2, x, y)\n",
    "print sumsq_error(10.1, 1.2, x, y)\n",
    "print sumsq_error(26.25, 13.13, x, y)\n",
    "print sumsq_error(25.25, 13.13, x, y)\n",
    "print sumsq_error(26.25, 14.13, x, y)"
   ]
  },
  {
   "cell_type": "markdown",
   "metadata": {},
   "source": [
    "## Can we do better than guessing?\n",
    "\n",
    "Yes! Let's ask our old trusted friend, Calculus. \n",
    "\n",
    "$$\n",
    "E_s = \\sum_{i=1}^N (y_i - \\hat{y_i})^2\\\\\n",
    "E_s = \\sum_{i=1}^N (y_i - (x_i * \\beta_1 + \\beta_0))^2\\\\\n",
    "\\frac{d E_s}{d\\beta_0} = 0\\\\\n",
    "\\frac{d E_s}{d\\beta_1} = 0\\\\\n",
    "$$\n",
    "\n",
    "Working out the math, we will end up with:"
   ]
  },
  {
   "cell_type": "code",
   "execution_count": 6,
   "metadata": {
    "collapsed": true
   },
   "outputs": [],
   "source": [
    "def least_square_fit(x, y):\n",
    "    beta_1 = np.corrcoef(x,y)[0,1] * np.std(y) / np.std(x)\n",
    "    beta_0 = np.mean(y) - beta_1 * np.mean(x)\n",
    "    return beta_0, beta_1"
   ]
  },
  {
   "cell_type": "code",
   "execution_count": 7,
   "metadata": {
    "collapsed": false
   },
   "outputs": [
    {
     "name": "stdout",
     "output_type": "stream",
     "text": [
      "32.4197399958 12.7177558809\n"
     ]
    }
   ],
   "source": [
    "b0, b1 = least_square_fit(x,y)\n",
    "print b0, b1"
   ]
  },
  {
   "cell_type": "code",
   "execution_count": 8,
   "metadata": {
    "collapsed": false
   },
   "outputs": [
    {
     "data": {
      "text/plain": [
       "[<matplotlib.lines.Line2D at 0x1115856d0>]"
      ]
     },
     "execution_count": 8,
     "metadata": {},
     "output_type": "execute_result"
    },
    {
     "data": {
      "image/png": "[encoded data removed]",
      "text/plain": [
       "<matplotlib.figure.Figure at 0x111490f10>"
      ]
     },
     "metadata": {},
     "output_type": "display_data"
    }
   ],
   "source": [
    "plt.plot(x,y,'ok')\n",
    "px = np.linspace(1,20,100)\n",
    "py = px*b1 + b0\n",
    "plt.plot(px,py,'-r')\n",
    "\n",
    "bb0 = 30\n",
    "bb1 = 12\n",
    "plt.plot(px, predict(bb0, bb1, px), '-b')"
   ]
  },
  {
   "cell_type": "code",
   "execution_count": 9,
   "metadata": {
    "collapsed": true
   },
   "outputs": [],
   "source": [
    "def goodness_of_fit(beta_0, beta_1, x, y):\n",
    "    total_sq_error = np.sum((y-np.mean(y))**2)\n",
    "    return 1.0 - (sumsq_error(beta_0, beta_1, x, y) / total_sq_error)"
   ]
  },
  {
   "cell_type": "code",
   "execution_count": 10,
   "metadata": {
    "collapsed": false
   },
   "outputs": [
    {
     "data": {
      "text/plain": [
       "0.9798831555955767"
      ]
     },
     "execution_count": 10,
     "metadata": {},
     "output_type": "execute_result"
    }
   ],
   "source": [
    "goodness_of_fit(b0,b1,x,y)"
   ]
  },
  {
   "cell_type": "markdown",
   "metadata": {},
   "source": [
    "## Moving to sklearn\n",
    "\n",
    "In this class, we will be using a Python package called *sklearn* that contains a large collection of machine learning algorithm. Let's take a look at how to use linear regression model. For more information, check out this:http://scikit-learn.org/stable/modules/linear_model.html"
   ]
  },
  {
   "cell_type": "code",
   "execution_count": 11,
   "metadata": {
    "collapsed": false
   },
   "outputs": [
    {
     "name": "stdout",
     "output_type": "stream",
     "text": [
      "beta_1: 12.7178\n",
      "beta_0: 32.4197\n",
      "Variance score: 0.9799\n"
     ]
    },
    {
     "name": "stderr",
     "output_type": "stream",
     "text": [
      "/Users/tow02/Desktop/iccs413/venv/lib/python2.7/site-packages/scipy/linalg/basic.py:884: RuntimeWarning: internal gelsd driver lwork query error, required iwork dimension not returned. This is likely the result of LAPACK bug 0038, fixed in LAPACK 3.2.2 (released July 21, 2010). Falling back to 'gelss' driver.\n",
      "  warnings.warn(mesg, RuntimeWarning)\n"
     ]
    }
   ],
   "source": [
    "from sklearn import linear_model\n",
    "\n",
    "# Create linear regression object\n",
    "regr = linear_model.LinearRegression()\n",
    "\n",
    "# Train the model using the training sets\n",
    "regr.fit(x.reshape(-1,1), y.reshape(-1,1))\n",
    "\n",
    "# coefficient\n",
    "print(\"beta_1: %.4f\" % regr.coef_)\n",
    "\n",
    "# intercept\n",
    "print(\"beta_0: %.4f\" % regr.intercept_)\n",
    "\n",
    "# Explained variance score: 1 is perfect prediction\n",
    "print('Variance score: %.4f' % regr.score(x.reshape(-1,1), y.reshape(-1,1)))\n"
   ]
  },
  {
   "cell_type": "code",
   "execution_count": null,
   "metadata": {
    "collapsed": false
   },
   "outputs": [],
   "source": []
  },
  {
   "cell_type": "markdown",
   "metadata": {},
   "source": [
    "## Maximum Likelihood Estimation\n",
    "\n",
    "$ y_i = (a + bx_i) + e_i $ \n",
    "\n",
    "*$ e_i $ = random variable (normal distribution)\n",
    "\n",
    "$ \\beta_0 $ and $ \\beta_1 $ are random variable\n",
    "\n",
    "Imagine that we have a samle $ v_1, v_2, ..., v_n $ that comes from a \n",
    "distribution that depends on some unknown parameter $ \\theta $\n",
    "\n",
    "$$ P(v_1, v_2, v_3, v_4, ... v_n \\mid \\theta) $$\n",
    "\n",
    "a.k.a the likelihood of $ \\theta $ given the sample ---> $ L(\\theta \\mid v_1, v_2, ... v_n) $\n",
    "\n"
   ]
  },
  {
   "cell_type": "markdown",
   "metadata": {},
   "source": [
    "Max $ \\beta_0 $ $ \\beta_1 $ = $ L(\\beta_0, \\beta_1 \\mid (x_1, y_1) (x_2, y_2) ...) $\n",
    "\n",
    "= $ P((x_1, y_1) (x_2, y_2) ... \\mid \\beta_0, \\beta_1) $\n",
    "\n",
    "= $\\prod_{i=1}^{n} P((x_i, y_i) \\mid \\beta_0, \\beta_1) $\n",
    "\n",
    "= $\\prod P(error=e_i \\mid \\beta_0, \\beta_1) $\n",
    "\n",
    "= $\\prod_{i=1}^{n} \\frac{1}{\\sqrt{2\\pi\\sigma}} exp(\\frac{-(y_i - \\beta_0 - \\beta_{1}x_1)^2}{2\\sigma^2}) $"
   ]
  },
  {
   "cell_type": "code",
   "execution_count": null,
   "metadata": {
    "collapsed": true
   },
   "outputs": [],
   "source": []
  },
  {
   "cell_type": "markdown",
   "metadata": {},
   "source": [
    "$ y_i = \\alpha + \\vec{\\beta} x_i + e_i $"
   ]
  },
  {
   "cell_type": "markdown",
   "metadata": {},
   "source": [
    "Assumptions:\n",
    "\n",
    "1. All columns are linearly independent\n",
    "    $$ y = 3x_1 + 4x_2 $$\n",
    "    \n",
    "    $$  = 3(2x_2) + 4x_2 $$\n",
    "    \n",
    "    $$  = 10x_2 + 0x_1 $$\n",
    "    \n",
    "    $$ x_1 = 2x_2 $$"
   ]
  },
  {
   "cell_type": "code",
   "execution_count": null,
   "metadata": {
    "collapsed": true
   },
   "outputs": [],
   "source": []
  }
 ],
 "metadata": {
  "anaconda-cloud": {},
  "kernelspec": {
   "display_name": "Python 2",
   "language": "python",
   "name": "python2"
  },
  "language_info": {
   "codemirror_mode": {
    "name": "ipython",
    "version": 2
   },
   "file_extension": ".py",
   "mimetype": "text/x-python",
   "name": "python",
   "nbconvert_exporter": "python",
   "pygments_lexer": "ipython2",
   "version": "2.7.10"
  }
 },
 "nbformat": 4,
 "nbformat_minor": 1
}
