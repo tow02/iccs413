{
 "cells": [
  {
   "cell_type": "code",
   "execution_count": 1,
   "metadata": {
    "collapsed": true
   },
   "outputs": [],
   "source": [
    "%matplotlib inline\n",
    "import numpy as np\n",
    "import pandas as pd\n",
    "import matplotlib.pyplot as plt\n",
    "plt.style.use('ggplot')\n",
    "np.set_printoptions(precision=4, suppress=True)"
   ]
  },
  {
   "cell_type": "markdown",
   "metadata": {},
   "source": [
    "## Lecture 10: Multiple Regression\n"
   ]
  },
  {
   "cell_type": "code",
   "execution_count": 2,
   "metadata": {
    "collapsed": true
   },
   "outputs": [],
   "source": [
    "df = pd.read_csv('dataset_Facebook.csv',delimiter=';')"
   ]
  },
  {
   "cell_type": "code",
   "execution_count": 3,
   "metadata": {
    "collapsed": false
   },
   "outputs": [
    {
     "data": {
      "text/html": [
       "<div>\n",
       "<table border=\"1\" class=\"dataframe\">\n",
       "  <thead>\n",
       "    <tr style=\"text-align: right;\">\n",
       "      <th></th>\n",
       "      <th>Page total likes</th>\n",
       "      <th>Type</th>\n",
       "      <th>Category</th>\n",
       "      <th>Post Month</th>\n",
       "      <th>Post Weekday</th>\n",
       "      <th>Post Hour</th>\n",
       "      <th>Paid</th>\n",
       "      <th>Lifetime Post Total Reach</th>\n",
       "      <th>Lifetime Post Total Impressions</th>\n",
       "      <th>Lifetime Engaged Users</th>\n",
       "      <th>Lifetime Post Consumers</th>\n",
       "      <th>Lifetime Post Consumptions</th>\n",
       "      <th>Lifetime Post Impressions by people who have liked your Page</th>\n",
       "      <th>Lifetime Post reach by people who like your Page</th>\n",
       "      <th>Lifetime People who have liked your Page and engaged with your post</th>\n",
       "      <th>comment</th>\n",
       "      <th>like</th>\n",
       "      <th>share</th>\n",
       "      <th>Total Interactions</th>\n",
       "    </tr>\n",
       "  </thead>\n",
       "  <tbody>\n",
       "    <tr>\n",
       "      <th>0</th>\n",
       "      <td>139441</td>\n",
       "      <td>Photo</td>\n",
       "      <td>2</td>\n",
       "      <td>12</td>\n",
       "      <td>4</td>\n",
       "      <td>3</td>\n",
       "      <td>0.0</td>\n",
       "      <td>2752</td>\n",
       "      <td>5091</td>\n",
       "      <td>178</td>\n",
       "      <td>109</td>\n",
       "      <td>159</td>\n",
       "      <td>3078</td>\n",
       "      <td>1640</td>\n",
       "      <td>119</td>\n",
       "      <td>4</td>\n",
       "      <td>79.0</td>\n",
       "      <td>17.0</td>\n",
       "      <td>100</td>\n",
       "    </tr>\n",
       "    <tr>\n",
       "      <th>1</th>\n",
       "      <td>139441</td>\n",
       "      <td>Status</td>\n",
       "      <td>2</td>\n",
       "      <td>12</td>\n",
       "      <td>3</td>\n",
       "      <td>10</td>\n",
       "      <td>0.0</td>\n",
       "      <td>10460</td>\n",
       "      <td>19057</td>\n",
       "      <td>1457</td>\n",
       "      <td>1361</td>\n",
       "      <td>1674</td>\n",
       "      <td>11710</td>\n",
       "      <td>6112</td>\n",
       "      <td>1108</td>\n",
       "      <td>5</td>\n",
       "      <td>130.0</td>\n",
       "      <td>29.0</td>\n",
       "      <td>164</td>\n",
       "    </tr>\n",
       "    <tr>\n",
       "      <th>2</th>\n",
       "      <td>139441</td>\n",
       "      <td>Photo</td>\n",
       "      <td>3</td>\n",
       "      <td>12</td>\n",
       "      <td>3</td>\n",
       "      <td>3</td>\n",
       "      <td>0.0</td>\n",
       "      <td>2413</td>\n",
       "      <td>4373</td>\n",
       "      <td>177</td>\n",
       "      <td>113</td>\n",
       "      <td>154</td>\n",
       "      <td>2812</td>\n",
       "      <td>1503</td>\n",
       "      <td>132</td>\n",
       "      <td>0</td>\n",
       "      <td>66.0</td>\n",
       "      <td>14.0</td>\n",
       "      <td>80</td>\n",
       "    </tr>\n",
       "    <tr>\n",
       "      <th>3</th>\n",
       "      <td>139441</td>\n",
       "      <td>Photo</td>\n",
       "      <td>2</td>\n",
       "      <td>12</td>\n",
       "      <td>2</td>\n",
       "      <td>10</td>\n",
       "      <td>1.0</td>\n",
       "      <td>50128</td>\n",
       "      <td>87991</td>\n",
       "      <td>2211</td>\n",
       "      <td>790</td>\n",
       "      <td>1119</td>\n",
       "      <td>61027</td>\n",
       "      <td>32048</td>\n",
       "      <td>1386</td>\n",
       "      <td>58</td>\n",
       "      <td>1572.0</td>\n",
       "      <td>147.0</td>\n",
       "      <td>1777</td>\n",
       "    </tr>\n",
       "    <tr>\n",
       "      <th>4</th>\n",
       "      <td>139441</td>\n",
       "      <td>Photo</td>\n",
       "      <td>2</td>\n",
       "      <td>12</td>\n",
       "      <td>2</td>\n",
       "      <td>3</td>\n",
       "      <td>0.0</td>\n",
       "      <td>7244</td>\n",
       "      <td>13594</td>\n",
       "      <td>671</td>\n",
       "      <td>410</td>\n",
       "      <td>580</td>\n",
       "      <td>6228</td>\n",
       "      <td>3200</td>\n",
       "      <td>396</td>\n",
       "      <td>19</td>\n",
       "      <td>325.0</td>\n",
       "      <td>49.0</td>\n",
       "      <td>393</td>\n",
       "    </tr>\n",
       "  </tbody>\n",
       "</table>\n",
       "</div>"
      ],
      "text/plain": [
       "   Page total likes    Type  Category  Post Month  Post Weekday  Post Hour  \\\n",
       "0            139441   Photo         2          12             4          3   \n",
       "1            139441  Status         2          12             3         10   \n",
       "2            139441   Photo         3          12             3          3   \n",
       "3            139441   Photo         2          12             2         10   \n",
       "4            139441   Photo         2          12             2          3   \n",
       "\n",
       "   Paid  Lifetime Post Total Reach  Lifetime Post Total Impressions  \\\n",
       "0   0.0                       2752                             5091   \n",
       "1   0.0                      10460                            19057   \n",
       "2   0.0                       2413                             4373   \n",
       "3   1.0                      50128                            87991   \n",
       "4   0.0                       7244                            13594   \n",
       "\n",
       "   Lifetime Engaged Users  Lifetime Post Consumers  \\\n",
       "0                     178                      109   \n",
       "1                    1457                     1361   \n",
       "2                     177                      113   \n",
       "3                    2211                      790   \n",
       "4                     671                      410   \n",
       "\n",
       "   Lifetime Post Consumptions  \\\n",
       "0                         159   \n",
       "1                        1674   \n",
       "2                         154   \n",
       "3                        1119   \n",
       "4                         580   \n",
       "\n",
       "   Lifetime Post Impressions by people who have liked your Page  \\\n",
       "0                                               3078              \n",
       "1                                              11710              \n",
       "2                                               2812              \n",
       "3                                              61027              \n",
       "4                                               6228              \n",
       "\n",
       "   Lifetime Post reach by people who like your Page  \\\n",
       "0                                              1640   \n",
       "1                                              6112   \n",
       "2                                              1503   \n",
       "3                                             32048   \n",
       "4                                              3200   \n",
       "\n",
       "   Lifetime People who have liked your Page and engaged with your post  \\\n",
       "0                                                119                     \n",
       "1                                               1108                     \n",
       "2                                                132                     \n",
       "3                                               1386                     \n",
       "4                                                396                     \n",
       "\n",
       "   comment    like  share  Total Interactions  \n",
       "0        4    79.0   17.0                 100  \n",
       "1        5   130.0   29.0                 164  \n",
       "2        0    66.0   14.0                  80  \n",
       "3       58  1572.0  147.0                1777  \n",
       "4       19   325.0   49.0                 393  "
      ]
     },
     "execution_count": 3,
     "metadata": {},
     "output_type": "execute_result"
    }
   ],
   "source": [
    "df.head()"
   ]
  },
  {
   "cell_type": "code",
   "execution_count": 4,
   "metadata": {
    "collapsed": false
   },
   "outputs": [],
   "source": [
    "x = df.iloc[:,2:15].fillna(0).as_matrix()\n",
    "y = df['like'].fillna(0).as_matrix()"
   ]
  },
  {
   "cell_type": "code",
   "execution_count": 5,
   "metadata": {
    "collapsed": false
   },
   "outputs": [
    {
     "data": {
      "text/html": [
       "<div>\n",
       "<table border=\"1\" class=\"dataframe\">\n",
       "  <thead>\n",
       "    <tr style=\"text-align: right;\">\n",
       "      <th></th>\n",
       "      <th>Category</th>\n",
       "      <th>Post Month</th>\n",
       "      <th>Post Weekday</th>\n",
       "      <th>Post Hour</th>\n",
       "      <th>Paid</th>\n",
       "      <th>Lifetime Post Total Reach</th>\n",
       "      <th>Lifetime Post Total Impressions</th>\n",
       "      <th>Lifetime Engaged Users</th>\n",
       "      <th>Lifetime Post Consumers</th>\n",
       "      <th>Lifetime Post Consumptions</th>\n",
       "      <th>Lifetime Post Impressions by people who have liked your Page</th>\n",
       "      <th>Lifetime Post reach by people who like your Page</th>\n",
       "      <th>Lifetime People who have liked your Page and engaged with your post</th>\n",
       "    </tr>\n",
       "  </thead>\n",
       "  <tbody>\n",
       "    <tr>\n",
       "      <th>0</th>\n",
       "      <td>2</td>\n",
       "      <td>12</td>\n",
       "      <td>4</td>\n",
       "      <td>3</td>\n",
       "      <td>0.0</td>\n",
       "      <td>2752</td>\n",
       "      <td>5091</td>\n",
       "      <td>178</td>\n",
       "      <td>109</td>\n",
       "      <td>159</td>\n",
       "      <td>3078</td>\n",
       "      <td>1640</td>\n",
       "      <td>119</td>\n",
       "    </tr>\n",
       "    <tr>\n",
       "      <th>1</th>\n",
       "      <td>2</td>\n",
       "      <td>12</td>\n",
       "      <td>3</td>\n",
       "      <td>10</td>\n",
       "      <td>0.0</td>\n",
       "      <td>10460</td>\n",
       "      <td>19057</td>\n",
       "      <td>1457</td>\n",
       "      <td>1361</td>\n",
       "      <td>1674</td>\n",
       "      <td>11710</td>\n",
       "      <td>6112</td>\n",
       "      <td>1108</td>\n",
       "    </tr>\n",
       "    <tr>\n",
       "      <th>2</th>\n",
       "      <td>3</td>\n",
       "      <td>12</td>\n",
       "      <td>3</td>\n",
       "      <td>3</td>\n",
       "      <td>0.0</td>\n",
       "      <td>2413</td>\n",
       "      <td>4373</td>\n",
       "      <td>177</td>\n",
       "      <td>113</td>\n",
       "      <td>154</td>\n",
       "      <td>2812</td>\n",
       "      <td>1503</td>\n",
       "      <td>132</td>\n",
       "    </tr>\n",
       "    <tr>\n",
       "      <th>3</th>\n",
       "      <td>2</td>\n",
       "      <td>12</td>\n",
       "      <td>2</td>\n",
       "      <td>10</td>\n",
       "      <td>1.0</td>\n",
       "      <td>50128</td>\n",
       "      <td>87991</td>\n",
       "      <td>2211</td>\n",
       "      <td>790</td>\n",
       "      <td>1119</td>\n",
       "      <td>61027</td>\n",
       "      <td>32048</td>\n",
       "      <td>1386</td>\n",
       "    </tr>\n",
       "    <tr>\n",
       "      <th>4</th>\n",
       "      <td>2</td>\n",
       "      <td>12</td>\n",
       "      <td>2</td>\n",
       "      <td>3</td>\n",
       "      <td>0.0</td>\n",
       "      <td>7244</td>\n",
       "      <td>13594</td>\n",
       "      <td>671</td>\n",
       "      <td>410</td>\n",
       "      <td>580</td>\n",
       "      <td>6228</td>\n",
       "      <td>3200</td>\n",
       "      <td>396</td>\n",
       "    </tr>\n",
       "  </tbody>\n",
       "</table>\n",
       "</div>"
      ],
      "text/plain": [
       "   Category  Post Month  Post Weekday  Post Hour  Paid  \\\n",
       "0         2          12             4          3   0.0   \n",
       "1         2          12             3         10   0.0   \n",
       "2         3          12             3          3   0.0   \n",
       "3         2          12             2         10   1.0   \n",
       "4         2          12             2          3   0.0   \n",
       "\n",
       "   Lifetime Post Total Reach  Lifetime Post Total Impressions  \\\n",
       "0                       2752                             5091   \n",
       "1                      10460                            19057   \n",
       "2                       2413                             4373   \n",
       "3                      50128                            87991   \n",
       "4                       7244                            13594   \n",
       "\n",
       "   Lifetime Engaged Users  Lifetime Post Consumers  \\\n",
       "0                     178                      109   \n",
       "1                    1457                     1361   \n",
       "2                     177                      113   \n",
       "3                    2211                      790   \n",
       "4                     671                      410   \n",
       "\n",
       "   Lifetime Post Consumptions  \\\n",
       "0                         159   \n",
       "1                        1674   \n",
       "2                         154   \n",
       "3                        1119   \n",
       "4                         580   \n",
       "\n",
       "   Lifetime Post Impressions by people who have liked your Page  \\\n",
       "0                                               3078              \n",
       "1                                              11710              \n",
       "2                                               2812              \n",
       "3                                              61027              \n",
       "4                                               6228              \n",
       "\n",
       "   Lifetime Post reach by people who like your Page  \\\n",
       "0                                              1640   \n",
       "1                                              6112   \n",
       "2                                              1503   \n",
       "3                                             32048   \n",
       "4                                              3200   \n",
       "\n",
       "   Lifetime People who have liked your Page and engaged with your post  \n",
       "0                                                119                    \n",
       "1                                               1108                    \n",
       "2                                                132                    \n",
       "3                                               1386                    \n",
       "4                                                396                    "
      ]
     },
     "execution_count": 5,
     "metadata": {},
     "output_type": "execute_result"
    }
   ],
   "source": [
    "df.iloc[:,2:15].head()"
   ]
  },
  {
   "cell_type": "markdown",
   "metadata": {},
   "source": [
    "## Training Linear Models\n",
    "\n",
    "We will take a look at how to use sklearn and statsmodel for training linear models"
   ]
  },
  {
   "cell_type": "code",
   "execution_count": 6,
   "metadata": {
    "collapsed": false
   },
   "outputs": [
    {
     "name": "stdout",
     "output_type": "stream",
     "text": [
      "R-squared= 0.981125861114\n",
      "Coef= [ 0.8287 -3.3661 -0.4599 -0.5577 -1.6111 -0.001   0.0003  1.2316 -1.2248\n",
      "  0.0049 -0.0002 -0.0007  0.0386]\n",
      "Int= 32.9895475675\n"
     ]
    },
    {
     "name": "stderr",
     "output_type": "stream",
     "text": [
      "/Users/tow02/Desktop/iccs413/venv/lib/python2.7/site-packages/scipy/linalg/basic.py:884: RuntimeWarning: internal gelsd driver lwork query error, required iwork dimension not returned. This is likely the result of LAPACK bug 0038, fixed in LAPACK 3.2.2 (released July 21, 2010). Falling back to 'gelss' driver.\n",
      "  warnings.warn(mesg, RuntimeWarning)\n"
     ]
    }
   ],
   "source": [
    "from sklearn import linear_model\n",
    "reg = linear_model.LinearRegression(normalize=False)\n",
    "reg.fit(x,y)\n",
    "print \"R-squared=\", reg.score(x,y)\n",
    "print \"Coef=\", reg.coef_\n",
    "print \"Int=\", reg.intercept_"
   ]
  },
  {
   "cell_type": "code",
   "execution_count": 7,
   "metadata": {
    "collapsed": false
   },
   "outputs": [
    {
     "data": {
      "text/plain": [
       "[<matplotlib.lines.Line2D at 0x10cb3ab90>]"
      ]
     },
     "execution_count": 7,
     "metadata": {},
     "output_type": "execute_result"
    },
    {
     "data": {
      "image/png": "[encoded data removed]",
      "text/plain": [
       "<matplotlib.figure.Figure at 0x10aa89790>"
      ]
     },
     "metadata": {},
     "output_type": "display_data"
    }
   ],
   "source": [
    "plt.plot(range(x.shape[0]), reg.predict(x) - y, 'ob')"
   ]
  },
  {
   "cell_type": "code",
   "execution_count": 8,
   "metadata": {
    "collapsed": false
   },
   "outputs": [
    {
     "name": "stdout",
     "output_type": "stream",
     "text": [
      "                            OLS Regression Results                            \n",
      "==============================================================================\n",
      "Dep. Variable:                      y   R-squared:                       0.981\n",
      "Model:                            OLS   Adj. R-squared:                  0.981\n",
      "Method:                 Least Squares   F-statistic:                     1943.\n",
      "Date:                Fri, 10 Feb 2017   Prob (F-statistic):               0.00\n",
      "Time:                        16:57:59   Log-Likelihood:                -2605.6\n",
      "No. Observations:                 500   AIC:                             5239.\n",
      "Df Residuals:                     486   BIC:                             5298.\n",
      "Df Model:                          13                                         \n",
      "Covariance Type:            nonrobust                                         \n",
      "==============================================================================\n",
      "                 coef    std err          t      P>|t|      [95.0% Conf. Int.]\n",
      "------------------------------------------------------------------------------\n",
      "const         32.9895     10.862      3.037      0.003        11.647    54.332\n",
      "x1             0.8287      2.624      0.316      0.752        -4.327     5.985\n",
      "x2            -3.3661      0.678     -4.966      0.000        -4.698    -2.034\n",
      "x3            -0.4599      1.005     -0.458      0.647        -2.434     1.514\n",
      "x4            -0.5577      0.479     -1.165      0.245        -1.498     0.383\n",
      "x5            -1.6111      4.583     -0.352      0.725       -10.615     7.393\n",
      "x6            -0.0010      0.000     -2.425      0.016        -0.002    -0.000\n",
      "x7             0.0003      0.000      2.253      0.025      4.04e-05     0.001\n",
      "x8             1.2316      0.011    107.743      0.000         1.209     1.254\n",
      "x9            -1.2248      0.012   -106.416      0.000        -1.247    -1.202\n",
      "x10            0.0049      0.001      3.354      0.001         0.002     0.008\n",
      "x11           -0.0002      0.000     -1.454      0.147        -0.001  7.94e-05\n",
      "x12           -0.0007      0.001     -0.813      0.416        -0.002     0.001\n",
      "x13            0.0386      0.008      4.634      0.000         0.022     0.055\n",
      "==============================================================================\n",
      "Omnibus:                      319.648   Durbin-Watson:                   1.827\n",
      "Prob(Omnibus):                  0.000   Jarque-Bera (JB):            10580.574\n",
      "Skew:                           2.228   Prob(JB):                         0.00\n",
      "Kurtosis:                      25.091   Cond. No.                     5.56e+05\n",
      "==============================================================================\n",
      "\n",
      "Warnings:\n",
      "[1] Standard Errors assume that the covariance matrix of the errors is correctly specified.\n",
      "[2] The condition number is large, 5.56e+05. This might indicate that there are\n",
      "strong multicollinearity or other numerical problems.\n"
     ]
    }
   ],
   "source": [
    "import statsmodels.api as sm\n",
    "ols = sm.OLS(y, sm.add_constant(x))\n",
    "ols_result = ols.fit()\n",
    "print ols_result.summary()"
   ]
  },
  {
   "cell_type": "code",
   "execution_count": 9,
   "metadata": {
    "collapsed": false
   },
   "outputs": [
    {
     "data": {
      "text/plain": [
       "[<matplotlib.lines.Line2D at 0x10d3e0490>]"
      ]
     },
     "execution_count": 9,
     "metadata": {},
     "output_type": "execute_result"
    },
    {
     "data": {
      "image/png": "[encoded data removed]",
      "text/plain": [
       "<matplotlib.figure.Figure at 0x10d35e450>"
      ]
     },
     "metadata": {},
     "output_type": "display_data"
    }
   ],
   "source": [
    "error = [ np.dot(ols_result.params[1:],x[i,:]) + ols_result.params[0] - y[i] for i in range(x.shape[0]) ]\n",
    "plt.plot(range(x.shape[0]), error, '+r')"
   ]
  },
  {
   "cell_type": "markdown",
   "metadata": {},
   "source": [
    "## Estimating Standard Error of Regression Coefficients\n",
    "\n",
    "We can take the bootstrapping approach to estimating the standard errors of our regression coefficients.  We repeatedly take a bootstrap sample of our data and estimate the coefficients based on that sample. If the coefficient corresponding to one of the independent variables doesn’t vary much across samples, then we can be confident that our estimate is relatively tight. If the coefficient varies greatly across samples, then we can’t be at all confident in our estimate."
   ]
  },
  {
   "cell_type": "code",
   "execution_count": 10,
   "metadata": {
    "collapsed": false
   },
   "outputs": [
    {
     "name": "stdout",
     "output_type": "stream",
     "text": [
      "[ 1.488  -2.6676 -0.4025 -0.5469 -1.8195 -0.0012  0.0004  1.2289 -1.2041\n",
      "  0.0053 -0.0002 -0.0003  0.0146]\n",
      "[ 2.825   1.1079  0.8521  0.415   4.4238  0.0007  0.0002  0.0369  0.0409\n",
      "  0.0023  0.0004  0.0017  0.041 ]\n"
     ]
    }
   ],
   "source": [
    "coefs = []\n",
    "n = x.shape[0]\n",
    "reg = linear_model.LinearRegression()\n",
    "for i in range(2000):\n",
    "    sample = np.random.choice(xrange(n),n)\n",
    "    sx = x[sample,:]\n",
    "    sy = y[sample]\n",
    "    reg.fit(sx, sy)\n",
    "    coefs.append(reg.coef_)\n",
    "    \n",
    "all_coefs = np.vstack(coefs)\n",
    "print np.mean(all_coefs, axis=0)\n",
    "print np.std(all_coefs, axis=0)"
   ]
  },
  {
   "cell_type": "code",
   "execution_count": 11,
   "metadata": {
    "collapsed": false
   },
   "outputs": [],
   "source": [
    "nx = x[:, ols_result.pvalues[1:] < 0.1]"
   ]
  },
  {
   "cell_type": "code",
   "execution_count": 12,
   "metadata": {
    "collapsed": false
   },
   "outputs": [
    {
     "name": "stdout",
     "output_type": "stream",
     "text": [
      "                            OLS Regression Results                            \n",
      "==============================================================================\n",
      "Dep. Variable:                      y   R-squared:                       0.981\n",
      "Model:                            OLS   Adj. R-squared:                  0.980\n",
      "Method:                 Least Squares   F-statistic:                     3560.\n",
      "Date:                Fri, 10 Feb 2017   Prob (F-statistic):               0.00\n",
      "Time:                        16:58:01   Log-Likelihood:                -2611.9\n",
      "No. Observations:                 500   AIC:                             5240.\n",
      "Df Residuals:                     492   BIC:                             5274.\n",
      "Df Model:                           7                                         \n",
      "Covariance Type:            nonrobust                                         \n",
      "==============================================================================\n",
      "                 coef    std err          t      P>|t|      [95.0% Conf. Int.]\n",
      "------------------------------------------------------------------------------\n",
      "const         24.0592      5.444      4.420      0.000        13.363    34.755\n",
      "x1            -2.9504      0.641     -4.605      0.000        -4.209    -1.692\n",
      "x2            -0.0007      0.000     -4.361      0.000        -0.001    -0.000\n",
      "x3          8.903e-05   3.76e-05      2.366      0.018      1.51e-05     0.000\n",
      "x4             1.2222      0.010    117.336      0.000         1.202     1.243\n",
      "x5            -1.2134      0.010   -117.173      0.000        -1.234    -1.193\n",
      "x6             0.0047      0.001      3.252      0.001         0.002     0.007\n",
      "x7             0.0308      0.006      4.782      0.000         0.018     0.043\n",
      "==============================================================================\n",
      "Omnibus:                      321.895   Durbin-Watson:                   1.782\n",
      "Prob(Omnibus):                  0.000   Jarque-Bera (JB):            11021.208\n",
      "Skew:                           2.240   Prob(JB):                         0.00\n",
      "Kurtosis:                      25.560   Cond. No.                     2.29e+05\n",
      "==============================================================================\n",
      "\n",
      "Warnings:\n",
      "[1] Standard Errors assume that the covariance matrix of the errors is correctly specified.\n",
      "[2] The condition number is large, 2.29e+05. This might indicate that there are\n",
      "strong multicollinearity or other numerical problems.\n"
     ]
    }
   ],
   "source": [
    "ols2 = sm.OLS(y, sm.add_constant(nx))\n",
    "ols_result2 = ols2.fit()\n",
    "print ols_result2.summary()"
   ]
  },
  {
   "cell_type": "markdown",
   "metadata": {},
   "source": [
    "## Regularization\n",
    "\n",
    "Regularization is an approach in which we add to the error term a penalty that gets larger as coefficient vector gets larger. We then minimize the combined error and penalty. The more importance we place on the penalty term, the more we discourage large coefficients. Read more here: http://scikit-learn.org/stable/modules/linear_model.html#ridge-regression and http://scikit-learn.org/stable/modules/linear_model.html#lasso\n",
    " "
   ]
  },
  {
   "cell_type": "code",
   "execution_count": 13,
   "metadata": {
    "collapsed": false
   },
   "outputs": [
    {
     "name": "stdout",
     "output_type": "stream",
     "text": [
      "R-squared= 0.353087885266\n",
      "Coef= [ 85.413   11.1142   0.0084]\n",
      "Int= -177.612146471\n"
     ]
    }
   ],
   "source": [
    "regridge = linear_model.Ridge(alpha = 0.999)\n",
    "regridge.fit(x[:,[0,1,5]], y) \n",
    "print \"R-squared=\", regridge.score(x[:,[0,1,5]],y)\n",
    "print \"Coef=\", regridge.coef_\n",
    "print \"Int=\", regridge.intercept_"
   ]
  },
  {
   "cell_type": "code",
   "execution_count": 14,
   "metadata": {
    "collapsed": false
   },
   "outputs": [
    {
     "name": "stdout",
     "output_type": "stream",
     "text": [
      "R-squared= 0.353088290966\n",
      "Coef= [ 85.6593  11.1254   0.0084]\n",
      "Int= -178.174474372\n"
     ]
    }
   ],
   "source": [
    "regridge = linear_model.Ridge(alpha = 1e-4)\n",
    "regridge.fit(x[:,[0,1,5]], y) \n",
    "print \"R-squared=\", regridge.score(x[:,[0,1,5]],y)\n",
    "print \"Coef=\", regridge.coef_\n",
    "print \"Int=\", regridge.intercept_"
   ]
  },
  {
   "cell_type": "code",
   "execution_count": 15,
   "metadata": {
    "collapsed": false
   },
   "outputs": [
    {
     "data": {
      "text/plain": [
       "[<matplotlib.lines.Line2D at 0x10d577790>]"
      ]
     },
     "execution_count": 15,
     "metadata": {},
     "output_type": "execute_result"
    },
    {
     "data": {
      "image/png": "[encoded data removed]",
      "text/plain": [
       "<matplotlib.figure.Figure at 0x10d344c50>"
      ]
     },
     "metadata": {},
     "output_type": "display_data"
    }
   ],
   "source": [
    "plt.plot(range(x.shape[0]), regridge.predict(x[:,[0,1,5]]) - y, 'ob')"
   ]
  },
  {
   "cell_type": "code",
   "execution_count": null,
   "metadata": {
    "collapsed": true
   },
   "outputs": [],
   "source": []
  },
  {
   "cell_type": "code",
   "execution_count": 16,
   "metadata": {
    "collapsed": true
   },
   "outputs": [],
   "source": [
    "df = pd.read_csv('msft.csv')"
   ]
  },
  {
   "cell_type": "code",
   "execution_count": 17,
   "metadata": {
    "collapsed": false
   },
   "outputs": [
    {
     "data": {
      "text/html": [
       "<div>\n",
       "<table border=\"1\" class=\"dataframe\">\n",
       "  <thead>\n",
       "    <tr style=\"text-align: right;\">\n",
       "      <th></th>\n",
       "      <th>Date</th>\n",
       "      <th>Open</th>\n",
       "      <th>High</th>\n",
       "      <th>Low</th>\n",
       "      <th>Close</th>\n",
       "      <th>Volume</th>\n",
       "    </tr>\n",
       "  </thead>\n",
       "  <tbody>\n",
       "    <tr>\n",
       "      <th>0</th>\n",
       "      <td>8-Feb-17</td>\n",
       "      <td>63.57</td>\n",
       "      <td>63.81</td>\n",
       "      <td>63.22</td>\n",
       "      <td>63.34</td>\n",
       "      <td>18096358</td>\n",
       "    </tr>\n",
       "    <tr>\n",
       "      <th>1</th>\n",
       "      <td>7-Feb-17</td>\n",
       "      <td>63.74</td>\n",
       "      <td>63.78</td>\n",
       "      <td>63.23</td>\n",
       "      <td>63.43</td>\n",
       "      <td>20277226</td>\n",
       "    </tr>\n",
       "    <tr>\n",
       "      <th>2</th>\n",
       "      <td>6-Feb-17</td>\n",
       "      <td>63.50</td>\n",
       "      <td>63.65</td>\n",
       "      <td>63.14</td>\n",
       "      <td>63.64</td>\n",
       "      <td>19796360</td>\n",
       "    </tr>\n",
       "    <tr>\n",
       "      <th>3</th>\n",
       "      <td>3-Feb-17</td>\n",
       "      <td>63.50</td>\n",
       "      <td>63.70</td>\n",
       "      <td>63.07</td>\n",
       "      <td>63.68</td>\n",
       "      <td>30301759</td>\n",
       "    </tr>\n",
       "    <tr>\n",
       "      <th>4</th>\n",
       "      <td>2-Feb-17</td>\n",
       "      <td>63.25</td>\n",
       "      <td>63.41</td>\n",
       "      <td>62.75</td>\n",
       "      <td>63.17</td>\n",
       "      <td>45827013</td>\n",
       "    </tr>\n",
       "  </tbody>\n",
       "</table>\n",
       "</div>"
      ],
      "text/plain": [
       "       Date   Open   High    Low  Close    Volume\n",
       "0  8-Feb-17  63.57  63.81  63.22  63.34  18096358\n",
       "1  7-Feb-17  63.74  63.78  63.23  63.43  20277226\n",
       "2  6-Feb-17  63.50  63.65  63.14  63.64  19796360\n",
       "3  3-Feb-17  63.50  63.70  63.07  63.68  30301759\n",
       "4  2-Feb-17  63.25  63.41  62.75  63.17  45827013"
      ]
     },
     "execution_count": 17,
     "metadata": {},
     "output_type": "execute_result"
    }
   ],
   "source": [
    "df.head()"
   ]
  },
  {
   "cell_type": "code",
   "execution_count": 18,
   "metadata": {
    "collapsed": false
   },
   "outputs": [
    {
     "data": {
      "text/plain": [
       "<matplotlib.axes._subplots.AxesSubplot at 0x10d344fd0>"
      ]
     },
     "execution_count": 18,
     "metadata": {},
     "output_type": "execute_result"
    },
    {
     "data": {
      "image/png": "[encoded data removed]",
      "text/plain": [
       "<matplotlib.figure.Figure at 0x10d5aa190>"
      ]
     },
     "metadata": {},
     "output_type": "display_data"
    }
   ],
   "source": [
    "df['Open'].plot()"
   ]
  },
  {
   "cell_type": "code",
   "execution_count": 19,
   "metadata": {
    "collapsed": false
   },
   "outputs": [
    {
     "name": "stdout",
     "output_type": "stream",
     "text": [
      "(241, 10)\n"
     ]
    }
   ],
   "source": [
    "x = []\n",
    "\n",
    "for i in range(len(df)-10):\n",
    "    x.append(df['Open'][i:i+10].as_matrix())\n",
    "\n",
    "data = np.array(x)\n",
    "print data.shape\n",
    "y = data[150:,0]\n",
    "x = data[150:,1:]\n",
    "\n",
    "tx = data[150:,0]\n",
    "ty = data[150:,1:]\n",
    "\n"
   ]
  },
  {
   "cell_type": "code",
   "execution_count": 20,
   "metadata": {
    "collapsed": false
   },
   "outputs": [
    {
     "name": "stdout",
     "output_type": "stream",
     "text": [
      "R-squared= 0.857994066596\n",
      "Coef= [ 0.9842 -0.1763  0.1084  0.128  -0.0478 -0.0434 -0.1779  0.0924  0.0566]\n",
      "Int= 3.94454863542\n"
     ]
    }
   ],
   "source": [
    "regridge = linear_model.Ridge(alpha = 0.999)\n",
    "regridge.fit(x, y) \n",
    "print \"R-squared=\", regridge.score(x,y)\n",
    "print \"Coef=\", regridge.coef_\n",
    "print \"Int=\", regridge.intercept_"
   ]
  },
  {
   "cell_type": "code",
   "execution_count": 22,
   "metadata": {
    "collapsed": false
   },
   "outputs": [],
   "source": [
    "plt.plot(range(tx.shape[0]), regridge.predict(tx), '-r')\n",
    "plt.plot(range(tx.shape[0]), ty, '-b')"
   ]
  },
  {
   "cell_type": "markdown",
   "metadata": {},
   "source": [
    "## Note\n",
    "\n",
    "standard errors of regression coefficients $ \\hat{\\sigma_i} $\n",
    "\n",
    "the fluctuation of a coefficient\n",
    "\n",
    "$ \\hat{t_i} = \\frac{\\hat{\\beta_i}}{ \\hat{\\sigma_i}} $ \n",
    "\n",
    "\n",
    "High $ \\hat{\\sigma_i} $ means\n",
    "- the coefficient is somewhat random\n",
    "\n",
    "- Is the coefficient zero?\n",
    "    - $ H_0 $ the coefficient is zero i.e. $ \\beta_i = 0 $"
   ]
  },
  {
   "cell_type": "code",
   "execution_count": null,
   "metadata": {
    "collapsed": true
   },
   "outputs": [],
   "source": []
  },
  {
   "cell_type": "markdown",
   "metadata": {},
   "source": [
    "### Estimate standard error of regression coefficients\n",
    "\n",
    "$ \\hat{t_i} = \\frac{\\hat{\\beta_i}}{\\hat{\\sigma_i}} $"
   ]
  },
  {
   "cell_type": "code",
   "execution_count": null,
   "metadata": {
    "collapsed": true
   },
   "outputs": [],
   "source": []
  }
 ],
 "metadata": {
  "anaconda-cloud": {},
  "kernelspec": {
   "display_name": "Python 2",
   "language": "python",
   "name": "python2"
  },
  "language_info": {
   "codemirror_mode": {
    "name": "ipython",
    "version": 2
   },
   "file_extension": ".py",
   "mimetype": "text/x-python",
   "name": "python",
   "nbconvert_exporter": "python",
   "pygments_lexer": "ipython2",
   "version": "2.7.10"
  }
 },
 "nbformat": 4,
 "nbformat_minor": 1
}
