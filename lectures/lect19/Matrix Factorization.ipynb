{
 "cells": [
  {
   "cell_type": "markdown",
   "metadata": {},
   "source": [
    "## Matrix Factorization\n",
    "*ref: http://www.quuxlabs.com/blog/2010/09/matrix-factorization-a-simple-tutorial-and-implementation-in-python/\n",
    "\n",
    "\n",
    "In this exercise, we will implement matrix factorization using stochastic gradient descent.\n",
    "\n",
    "Recall from the lecture, the error of entry i,j is given by \n",
    "$$e_{ij} = r_{ij} - p{ij}$$\n",
    "$$e_{ij}^2 = (r_{ij} - p_{ij})^2 = (r_{ij} - \\sum_{k=1}^K u_{ik}m_{kj})^2$$\n",
    "\n",
    "Now the partial derivatives of the square error,\n",
    "$$\\frac{\\partial e_{ij}^2}{\\partial u_{ik}} = -2(r_{ij} - p_{ij})(m_{kj}) = -2e_{ij}m_{kj}$$\n",
    "$$\\frac{\\partial e_{ij}^2}{\\partial m_{kj}} = -2(r_{ij} - p_{ij})(u_{ik}) = -2e_{ij}u_{ik}$$\n",
    "\n",
    "The update rules are:\n",
    "$$u_{ik}^{t+1} = u_{ik}^{t} - \\gamma \\frac{\\partial e_{ij}^2}{\\partial u_{ik}} = u_{ik}^{t} + 2 \\gamma e_{ij}m_{kj}$$\n",
    "$$m_{kj}^{t+1} = m_{kj}^{t} - \\gamma \\frac{\\partial e_{ij}^2}{\\partial m_{kj}} = m_{kj}^{t} + 2 \\gamma e_{ij}u_{ik}$$\n",
    "\n",
    "In addition, we will introduce a regularization term to the error term to restrict the norm of the U and M.\n",
    "$$e_{ij}^2 = (r_{ij} - \\sum_{k=1}^K u_{ik}m_{kj})^2 + \\frac{\\beta}{2}\\sum_{k=1}^K(|u_{k}|^2 + |m_{k}|^2)$$\n",
    "\n",
    "The update rules now become.\n",
    "$$u_{ik}^{t+1} = u_{ik}^{t} + \\gamma(2*e_{ij}m_{kj} - \\beta u_{ij})$$\n",
    "$$m_{kj}^{t+1} =  m_{kj}^{t} + \\gamma(2*e_{ij}u_{ik} - \\beta m_{kj})$$\n",
    "\n"
   ]
  },
  {
   "cell_type": "code",
   "execution_count": 1,
   "metadata": {
    "collapsed": false
   },
   "outputs": [
    {
     "name": "stdout",
     "output_type": "stream",
     "text": [
      "Populating the interactive namespace from numpy and matplotlib\n"
     ]
    }
   ],
   "source": [
    "%pylab inline"
   ]
  },
  {
   "cell_type": "code",
   "execution_count": 2,
   "metadata": {
    "collapsed": false
   },
   "outputs": [],
   "source": [
    "def matrix_factorization(R, U, M, K, max_iter=7000, learning_rate=1e-4, beta=0.02, tol=1e-3):\n",
    "    M = M.T\n",
    "    x,y = np.nonzero(R)\n",
    "    for it in range(max_iter):\n",
    "        # create a random ordering\n",
    "        order = np.random.permutation(len(x))\n",
    "        for step in range(len(order)):\n",
    "            i = x[order[step]]\n",
    "            j = y[order[step]]\n",
    "            eij = R[i,j] - np.dot(U[i,:],M[:,j])\n",
    "            for k in range(K):\n",
    "                U[i,k] = U[i,k] + learning_rate*(2*eij*M[k,j] - beta*U[i,k])\n",
    "                M[k,j] = M[k,j] + learning_rate*(2*eij*U[i,k] - beta*M[k,j])\n",
    "        # calculate the error\n",
    "        P = np.dot(U,M)\n",
    "        e2 = 0\n",
    "        for step in range(len(order)):\n",
    "            i = x[order[step]]\n",
    "            j = y[order[step]]\n",
    "            e2 += pow(R[i,j] - P[i,j],2)\n",
    "            for k in range(K):\n",
    "                e2 += beta/2.0 * (pow(U[i,k],2) + pow(M[k,j],2))\n",
    "        if e2 < tol:\n",
    "            break\n",
    "    return U,M.T   "
   ]
  },
  {
   "cell_type": "code",
   "execution_count": 4,
   "metadata": {
    "collapsed": false
   },
   "outputs": [],
   "source": [
    "R = [[5,3,0,1],\n",
    "     [4,0,0,1],\n",
    "     [1,1,0,5],\n",
    "     [1,0,0,4],\n",
    "     [0,1,5,4]];\n",
    "\n",
    "R = np.array(R)\n",
    "I,J = R.shape\n",
    "K = 2\n",
    "U = np.random.rand(I,K)\n",
    "M = np.random.rand(J,K)\n",
    "nU, nM = matrix_factorization(R,U,M,K)\n",
    "P = np.dot(nU,nM.T)"
   ]
  },
  {
   "cell_type": "code",
   "execution_count": 5,
   "metadata": {
    "collapsed": false
   },
   "outputs": [
    {
     "data": {
      "text/plain": [
       "array([[ 5.00250874,  2.92915433,  3.91568909,  0.99141214],\n",
       "       [ 3.95904596,  2.32746707,  3.29765012,  0.99747303],\n",
       "       [ 1.06401983,  0.83021077,  5.26066751,  4.95353557],\n",
       "       [ 0.97502083,  0.73517857,  4.27376041,  3.95343036],\n",
       "       [ 1.80434345,  1.21888432,  4.88244486,  4.07444695]])"
      ]
     },
     "execution_count": 5,
     "metadata": {},
     "output_type": "execute_result"
    }
   ],
   "source": [
    "P"
   ]
  },
  {
   "cell_type": "code",
   "execution_count": 6,
   "metadata": {
    "collapsed": false
   },
   "outputs": [
    {
     "data": {
      "text/plain": [
       "array([[ 2.18163441, -0.08272148],\n",
       "       [ 1.7354388 ,  0.02925377],\n",
       "       [ 0.66159105,  2.09286862],\n",
       "       [ 0.58185161,  1.65714713],\n",
       "       [ 0.94172045,  1.62414689]])"
      ]
     },
     "execution_count": 6,
     "metadata": {},
     "output_type": "execute_result"
    }
   ],
   "source": [
    "U"
   ]
  },
  {
   "cell_type": "code",
   "execution_count": 7,
   "metadata": {
    "collapsed": false
   },
   "outputs": [
    {
     "data": {
      "text/plain": [
       "array([[ 2.28489943, -0.21389264],\n",
       "       [ 1.34160256, -0.02741762],\n",
       "       [ 1.86776377,  1.92318413],\n",
       "       [ 0.53773494,  2.19687701]])"
      ]
     },
     "execution_count": 7,
     "metadata": {},
     "output_type": "execute_result"
    }
   ],
   "source": [
    "M"
   ]
  },
  {
   "cell_type": "code",
   "execution_count": null,
   "metadata": {
    "collapsed": true
   },
   "outputs": [],
   "source": []
  }
 ],
 "metadata": {
  "kernelspec": {
   "display_name": "Python [default]",
   "language": "python",
   "name": "python2"
  },
  "language_info": {
   "codemirror_mode": {
    "name": "ipython",
    "version": 2
   },
   "file_extension": ".py",
   "mimetype": "text/x-python",
   "name": "python",
   "nbconvert_exporter": "python",
   "pygments_lexer": "ipython2",
   "version": "2.7.12"
  }
 },
 "nbformat": 4,
 "nbformat_minor": 0
}
